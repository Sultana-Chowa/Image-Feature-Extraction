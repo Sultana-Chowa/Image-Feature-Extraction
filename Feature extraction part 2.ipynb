{
  "cells": [
    {
      "cell_type": "code",
      "execution_count": 9,
      "metadata": {
        "colab": {
          "base_uri": "https://localhost:8080/"
        },
        "id": "L8Idl4XJzVP8",
        "outputId": "2700f77b-b5bc-4a0b-dac2-c1c6cb19a117"
      },
      "outputs": [
        {
          "name": "stdout",
          "output_type": "stream",
          "text": [
            "Features saved to CSV files: benign_features.csv, malignant_features.csv\n"
          ]
        }
      ],
      "source": [
        "import os\n",
        "import cv2\n",
        "import numpy as np\n",
        "import csv\n",
        "\n",
        "def calculate_asymmetry_score(image):\n",
        "    # Convert image to grayscale\n",
        "    gray = cv2.cvtColor(image, cv2.COLOR_BGR2GRAY)\n",
        "    # Threshold the grayscale image\n",
        "    _, thresh = cv2.threshold(gray, 0, 255, cv2.THRESH_BINARY_INV+cv2.THRESH_OTSU)\n",
        "    # Find contours\n",
        "    contours, _ = cv2.findContours(thresh, cv2.RETR_EXTERNAL, cv2.CHAIN_APPROX_SIMPLE)\n",
        "    # Find the contour with the largest area\n",
        "    contour = max(contours, key=cv2.contourArea)\n",
        "    # Calculate the moments of the contour\n",
        "    M = cv2.moments(contour)\n",
        "    # Calculate the centroid\n",
        "    cx = int(M['m10'] / M['m00'])\n",
        "    cy = int(M['m01'] / M['m00'])\n",
        "\n",
        "    # Calculate the distance between each contour point and the centroid\n",
        "    distances = [np.sqrt((cx - point[0][0])**2 + (cy - point[0][1])**2) for point in contour]\n",
        "    # Calculate asymmetry score\n",
        "    asymmetry_score = np.std(distances) / np.mean(distances)\n",
        "\n",
        "    return asymmetry_score\n",
        "\n",
        "def calculate_color_variation(image):\n",
        "    # Convert image to LAB color space\n",
        "    lab = cv2.cvtColor(image, cv2.COLOR_BGR2LAB)\n",
        "    # Split the LAB image into channels\n",
        "    l, a, b = cv2.split(lab)\n",
        "    # Calculate standard deviation of each channel\n",
        "    std_l = np.std(l)\n",
        "    std_a = np.std(a)\n",
        "    std_b = np.std(b)\n",
        "    # Calculate color variation\n",
        "    color_variation = np.sqrt(std_l**2 + std_a**2 + std_b**2)\n",
        "\n",
        "    return color_variation\n",
        "\n",
        "def calculate_compactness_index(image):\n",
        "    # Convert image to grayscale\n",
        "    gray = cv2.cvtColor(image, cv2.COLOR_BGR2GRAY)\n",
        "    # Find contours\n",
        "    contours, _ = cv2.findContours(gray, cv2.RETR_EXTERNAL, cv2.CHAIN_APPROX_SIMPLE)\n",
        "    # Find the contour with the largest area\n",
        "    contour = max(contours, key=cv2.contourArea)\n",
        "    # Calculate area and perimeter of the contour\n",
        "    area = cv2.contourArea(contour)\n",
        "    perimeter = cv2.arcLength(contour, True)\n",
        "    # Calculate compactness index\n",
        "    compactness_index = (perimeter**2) / (4 * np.pi * area)\n",
        "\n",
        "    return compactness_index\n",
        "\n",
        "def extract_features_from_folder(folder_path):\n",
        "    features = []\n",
        "    for filename in os.listdir(folder_path):\n",
        "        if filename.endswith(\".jpg\") or filename.endswith(\".png\"):\n",
        "            image_path = os.path.join(folder_path, filename)\n",
        "            image = cv2.imread(image_path)\n",
        "            if image is not None:\n",
        "                asymmetry_score = calculate_asymmetry_score(image)\n",
        "                color_variation = calculate_color_variation(image)\n",
        "                compactness_index = calculate_compactness_index(image)\n",
        "                features.append((filename, asymmetry_score, color_variation, compactness_index))\n",
        "    return features\n",
        "\n",
        "def write_to_csv(features, csv_filename):\n",
        "    with open(csv_filename, mode='w', newline='') as file:\n",
        "        writer = csv.writer(file)\n",
        "        writer.writerow(['Filename', 'Asymmetry Score', 'Color Variation', 'Compactness Index'])\n",
        "        for feature in features:\n",
        "            writer.writerow(feature)\n",
        "\n",
        "# Paths to folders containing images for benign and malignant classes\n",
        "benign_folder = \"/content/Bneign_seg/\"\n",
        "malignant_folder = \"/content/Malignant_seg/\"\n",
        "\n",
        "# Extract features from both folders\n",
        "benign_features = extract_features_from_folder(benign_folder)\n",
        "malignant_features = extract_features_from_folder(malignant_folder)\n",
        "\n",
        "# Write features to CSV files\n",
        "write_to_csv(benign_features, 'Benign_features.csv')\n",
        "write_to_csv(malignant_features, 'Malignant_features.csv')\n",
        "\n",
        "print(\"Features saved to CSV files: benign_features.csv, malignant_features.csv\")"
      ]
    }
  ],
  "metadata": {
    "colab": {
      "provenance": []
    },
    "kernelspec": {
      "display_name": "Python 3",
      "name": "python3"
    },
    "language_info": {
      "name": "python"
    }
  },
  "nbformat": 4,
  "nbformat_minor": 0
}
